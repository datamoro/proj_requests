{
 "cells": [
  {
   "cell_type": "code",
   "execution_count": 3,
   "metadata": {},
   "outputs": [],
   "source": [
    "import requests"
   ]
  },
  {
   "cell_type": "code",
   "execution_count": 7,
   "metadata": {},
   "outputs": [],
   "source": [
    "# especificando a versão da API\n",
    "headers = {'X-GitHub-Api-Version': '2022-11-28'}\n",
    "username = \"datamoro\""
   ]
  },
  {
   "cell_type": "code",
   "execution_count": 12,
   "metadata": {},
   "outputs": [],
   "source": [
    "\n",
    "r = requests.get(f'https://api.github.com/users/{username}', headers=headers)"
   ]
  },
  {
   "cell_type": "code",
   "execution_count": 10,
   "metadata": {},
   "outputs": [
    {
     "data": {
      "text/plain": [
       "<Response [404]>"
      ]
     },
     "execution_count": 10,
     "metadata": {},
     "output_type": "execute_result"
    }
   ],
   "source": [
    "r"
   ]
  },
  {
   "cell_type": "markdown",
   "metadata": {},
   "source": [
    "### Explorando a biblioteca"
   ]
  },
  {
   "cell_type": "code",
   "execution_count": 9,
   "metadata": {},
   "outputs": [
    {
     "data": {
      "text/plain": [
       "404"
      ]
     },
     "execution_count": 9,
     "metadata": {},
     "output_type": "execute_result"
    }
   ],
   "source": [
    "r.status_code"
   ]
  },
  {
   "cell_type": "code",
   "execution_count": 13,
   "metadata": {},
   "outputs": [
    {
     "data": {
      "text/plain": [
       "'https://api.github.com/users/datamoro'"
      ]
     },
     "execution_count": 13,
     "metadata": {},
     "output_type": "execute_result"
    }
   ],
   "source": [
    "r.url"
   ]
  },
  {
   "cell_type": "code",
   "execution_count": 14,
   "metadata": {},
   "outputs": [
    {
     "data": {
      "text/plain": [
       "'{\"login\":\"datamoro\",\"id\":132309676,\"node_id\":\"U_kgDOB-LirA\",\"avatar_url\":\"https://avatars.githubusercontent.com/u/132309676?v=4\",\"gravatar_id\":\"\",\"url\":\"https://api.github.com/users/datamoro\",\"html_url\":\"https://github.com/datamoro\",\"followers_url\":\"https://api.github.com/users/datamoro/followers\",\"following_url\":\"https://api.github.com/users/datamoro/following{/other_user}\",\"gists_url\":\"https://api.github.com/users/datamoro/gists{/gist_id}\",\"starred_url\":\"https://api.github.com/users/datamoro/starred{/owner}{/repo}\",\"subscriptions_url\":\"https://api.github.com/users/datamoro/subscriptions\",\"organizations_url\":\"https://api.github.com/users/datamoro/orgs\",\"repos_url\":\"https://api.github.com/users/datamoro/repos\",\"events_url\":\"https://api.github.com/users/datamoro/events{/privacy}\",\"received_events_url\":\"https://api.github.com/users/datamoro/received_events\",\"type\":\"User\",\"site_admin\":false,\"name\":\"Caio Moro\",\"company\":\"@jadlog\",\"blog\":\"\",\"location\":\"Brookline, Massachusetts\",\"email\":null,\"hireable\":null,\"bio\":\"# Self-introduction \\\\r\\\\nname = \\\\\"Caio\\\\\"\\\\r\\\\nprofsn = \\\\\"Data Analyst\\\\\"\\\\r\\\\ninterests = [\\\\\"Artificial Intelligence\\\\\", \\\\\"Data Science\\\\\", \\\\\"Learning\\\\\"]\\\\r\\\\nprint(\\\\\"Hello, GitHub!\\\\\\\\n\\\\\")\",\"twitter_username\":null,\"public_repos\":4,\"public_gists\":0,\"followers\":1,\"following\":0,\"created_at\":\"2023-05-01T22:34:11Z\",\"updated_at\":\"2023-06-09T11:38:57Z\"}'"
      ]
     },
     "execution_count": 14,
     "metadata": {},
     "output_type": "execute_result"
    }
   ],
   "source": [
    "r.text"
   ]
  },
  {
   "cell_type": "code",
   "execution_count": 24,
   "metadata": {},
   "outputs": [
    {
     "data": {
      "text/plain": [
       "{'login': 'datamoro',\n",
       " 'id': 132309676,\n",
       " 'node_id': 'U_kgDOB-LirA',\n",
       " 'avatar_url': 'https://avatars.githubusercontent.com/u/132309676?v=4',\n",
       " 'gravatar_id': '',\n",
       " 'url': 'https://api.github.com/users/datamoro',\n",
       " 'html_url': 'https://github.com/datamoro',\n",
       " 'followers_url': 'https://api.github.com/users/datamoro/followers',\n",
       " 'following_url': 'https://api.github.com/users/datamoro/following{/other_user}',\n",
       " 'gists_url': 'https://api.github.com/users/datamoro/gists{/gist_id}',\n",
       " 'starred_url': 'https://api.github.com/users/datamoro/starred{/owner}{/repo}',\n",
       " 'subscriptions_url': 'https://api.github.com/users/datamoro/subscriptions',\n",
       " 'organizations_url': 'https://api.github.com/users/datamoro/orgs',\n",
       " 'repos_url': 'https://api.github.com/users/datamoro/repos',\n",
       " 'events_url': 'https://api.github.com/users/datamoro/events{/privacy}',\n",
       " 'received_events_url': 'https://api.github.com/users/datamoro/received_events',\n",
       " 'type': 'User',\n",
       " 'site_admin': False,\n",
       " 'name': 'Caio Moro',\n",
       " 'company': '@jadlog',\n",
       " 'blog': '',\n",
       " 'location': 'Brookline, Massachusetts',\n",
       " 'email': None,\n",
       " 'hireable': None,\n",
       " 'bio': '# Self-introduction \\r\\nname = \"Caio\"\\r\\nprofsn = \"Data Analyst\"\\r\\ninterests = [\"Artificial Intelligence\", \"Data Science\", \"Learning\"]\\r\\nprint(\"Hello, GitHub!\\\\n\")',\n",
       " 'twitter_username': None,\n",
       " 'public_repos': 4,\n",
       " 'public_gists': 0,\n",
       " 'followers': 1,\n",
       " 'following': 0,\n",
       " 'created_at': '2023-05-01T22:34:11Z',\n",
       " 'updated_at': '2023-06-09T11:38:57Z'}"
      ]
     },
     "execution_count": 24,
     "metadata": {},
     "output_type": "execute_result"
    }
   ],
   "source": [
    "r.json()"
   ]
  },
  {
   "cell_type": "code",
   "execution_count": 27,
   "metadata": {},
   "outputs": [
    {
     "name": "stdout",
     "output_type": "stream",
     "text": [
      "login: datamoro\n",
      "\n",
      "name: Caio Moro\n",
      "\n",
      "location: Brookline, Massachusetts\n",
      "\n"
     ]
    }
   ],
   "source": [
    "if r.status_code== 200:\n",
    "    login = r.json()['login']\n",
    "    name = r.json()['name']\n",
    "    location = r.json()['location']\n",
    "    \n",
    "    print(f'login: {login}\\n')\n",
    "    print(f'name: {name}\\n')\n",
    "    print(f'location: {location}\\n')\n",
    "else:\n",
    "    print('a requisicao falhou.')\n",
    "    "
   ]
  }
 ],
 "metadata": {
  "kernelspec": {
   "display_name": "venv",
   "language": "python",
   "name": "python3"
  },
  "language_info": {
   "codemirror_mode": {
    "name": "ipython",
    "version": 3
   },
   "file_extension": ".py",
   "mimetype": "text/x-python",
   "name": "python",
   "nbconvert_exporter": "python",
   "pygments_lexer": "ipython3",
   "version": "3.10.12"
  },
  "orig_nbformat": 4
 },
 "nbformat": 4,
 "nbformat_minor": 2
}
